{
 "cells": [
  {
   "cell_type": "markdown",
   "metadata": {},
   "source": [
    "# Assignment 1\n",
    "\n",
    "**1.Q: Create a memory map for Code and Peripheral address spaces of the MSP432P401R.**\n",
    "   \n",
    "![code_mem map](code_mem_map.png)\n",
    "![peri_mem map](peri_mem_map.png)\n",
    "\n",
    "ref: chapter 6 of MDS\n",
    "\n",
    "**2.Q: How many internal oscillators does the MSP432 have?**\n",
    "\n",
    "The MSP432 has 5 ossilators found on page 123 of the MDS. The DCO, VLO, REFO, MODOSC, and SYSOSC.\n",
    "\n",
    "ref: page 3 of MDS\n",
    "\n",
    "**3.Q: How many timers does the MSP432P401R have? What size are the timers?**\n",
    "\n",
    "The MSP432P401R has 7 different timers. Two 32bit timer32, four 16-bit Timer_A(TA0-TA3), and one (come back for size)watchdog timer. \n",
    "\n",
    "\n",
    "**4.Q: What is the maximum sampling rate of the analog to digital converter on the MSP432P401R?**\n",
    "\n",
    "The maxium sampling rate of the ADC convert for the MSP432P401R  is 25MHz and was found on page 65 of the MDS.\n",
    "\n",
    "\n",
    "**5.Q: What is the equation for determining the digital output of the analog to digital converter when operating in single-ended mode on the MSP432?**\n",
    "\n",
    "$$N_{ADC} = \\frac{V_{R+} -V_{R-}}{16384}$$\n",
    "\n",
    "ref: 845 of TRM\n",
    "\n",
    "**6.Q: Which register is the primary mechanism for changing power modes on the MSP432?**\n",
    "\n",
    "The register that primarily controls changing power modes is the PCMCTL0 register. \n",
    "\n",
    "ref: 423 of TRM\n",
    "\n",
    "**7.Q: When the temperature goes up, does the general I/O output current from the MSP432 go up or down?**\n",
    "\n",
    "From looking at Figure 5.19, the red curve has a higher temperature and is at a lower current then the black curve with a lower temperature. \n",
    "\n",
    "ref: page 61 of MDS\n",
    "\n",
    "\n",
    "**8.Q: The high drive I/O on the MSP432P401R produces more current by a factor of X. Estimate X according to the datasheet.**\n",
    "\n",
    "From comparing page 62 with 61 of the MDS, I conclude that the factor of increase of high-drive I/O increases the current by 6 rounded up. \n",
    "\n"
   ]
  },
  {
   "cell_type": "code",
   "execution_count": null,
   "metadata": {},
   "outputs": [],
   "source": []
  }
 ],
 "metadata": {
  "kernelspec": {
   "display_name": "Python 3",
   "language": "python",
   "name": "python3"
  },
  "language_info": {
   "codemirror_mode": {
    "name": "ipython",
    "version": 3
   },
   "file_extension": ".py",
   "mimetype": "text/x-python",
   "name": "python",
   "nbconvert_exporter": "python",
   "pygments_lexer": "ipython3",
   "version": "3.7.3"
  }
 },
 "nbformat": 4,
 "nbformat_minor": 2
}
